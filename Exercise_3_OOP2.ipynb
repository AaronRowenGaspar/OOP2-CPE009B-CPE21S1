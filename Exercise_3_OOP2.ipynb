{
  "nbformat": 4,
  "nbformat_minor": 0,
  "metadata": {
    "colab": {
      "provenance": [],
      "authorship_tag": "ABX9TyMLAdnb8Br+81lQK5UiO3PR",
      "include_colab_link": true
    },
    "kernelspec": {
      "name": "python3",
      "display_name": "Python 3"
    },
    "language_info": {
      "name": "python"
    }
  },
  "cells": [
    {
      "cell_type": "markdown",
      "metadata": {
        "id": "view-in-github",
        "colab_type": "text"
      },
      "source": [
        "<a href=\"https://colab.research.google.com/github/AaronRowenGaspar/OOP2-CPE009B-CPE21S1/blob/main/Exercise_3_OOP2.ipynb\" target=\"_parent\"><img src=\"https://colab.research.google.com/assets/colab-badge.svg\" alt=\"Open In Colab\"/></a>"
      ]
    },
    {
      "cell_type": "code",
      "execution_count": 12,
      "metadata": {
        "colab": {
          "base_uri": "https://localhost:8080/"
        },
        "id": "to19BX5-JGSY",
        "outputId": "16d8bcd6-d4ca-4b3e-8a3c-bb1e3158e2f5"
      },
      "outputs": [
        {
          "output_type": "stream",
          "name": "stdout",
          "text": [
            "The Sedan car has a color red\n"
          ]
        }
      ],
      "source": [
        "#Creating a class\n",
        "class Car:\n",
        "  def __init__(self, name, color):\n",
        "    self.name = name\n",
        "    self.color = color\n",
        "\n",
        "  def description(self):\n",
        "    return f\"The {self.name} car has a color {self.color}\"\n",
        "\n",
        "car = Car(\"Sedan\", \"red\")\n",
        "print(car.description())"
      ]
    },
    {
      "cell_type": "code",
      "source": [
        "#Creating a class inheritance\n",
        "class Car:\n",
        "  def __init__(self, name, color):\n",
        "    self.name = name\n",
        "    self.color = color\n",
        "\n",
        "  def description(self):\n",
        "    return f\"The {self.name} car has a color {self.color}\"\n",
        "\n",
        "class BMW(Car):\n",
        "  pass\n",
        "class Audi(Car):\n",
        "  def audi_description(self):\n",
        "    return \"The description of this car is an Audi\"\n",
        "\n",
        "bmw = BMW(\"A\", \"red\")\n",
        "print(bmw.description())\n",
        "\n",
        "audi = Audi(\"B\", \"blue\")\n",
        "print(audi.description())\n",
        "print(audi.audi_description())"
      ],
      "metadata": {
        "colab": {
          "base_uri": "https://localhost:8080/"
        },
        "id": "i43DRbtnQ0Ij",
        "outputId": "17c42f8c-79d4-41d2-a68c-77e9e9b8d802"
      },
      "execution_count": 13,
      "outputs": [
        {
          "output_type": "stream",
          "name": "stdout",
          "text": [
            "The A car has a color red\n",
            "The B car has a color blue\n",
            "The description of this car is an Audi\n"
          ]
        }
      ]
    },
    {
      "cell_type": "markdown",
      "source": [
        "Write a Python program that has\n",
        "1. class Rectangle\n",
        "2. attributes length and width\n",
        "3. Perimeter () method to compute for the perimeter; and\n",
        "4. Area() method to compute for the area"
      ],
      "metadata": {
        "id": "oa2iOklSZnWG"
      }
    },
    {
      "cell_type": "code",
      "source": [
        "class Rectangle():\n",
        "  def __init__(self, length, width):\n",
        "    self.length = length\n",
        "    self.width = width\n",
        "\n",
        "  def Perimeter(self):\n",
        "    return 2 * (self.length + self.width)\n",
        "\n",
        "  def Area(self):\n",
        "    return self.length * self.width\n",
        "\n",
        "rectangle = Rectangle(12, 24)\n",
        "print(f\"The perimeter of the rectangle is {rectangle.Perimeter()}\")\n",
        "print(f\"The area of the rectangle is {rectangle.Area()}\")"
      ],
      "metadata": {
        "colab": {
          "base_uri": "https://localhost:8080/"
        },
        "id": "oydeVWO6UCxA",
        "outputId": "d437559b-91a3-458e-8060-92630b63843c"
      },
      "execution_count": 20,
      "outputs": [
        {
          "output_type": "stream",
          "name": "stdout",
          "text": [
            "The perimeter of the rectangle is 72\n",
            "The area of the rectangle is 288\n"
          ]
        }
      ]
    }
  ]
}