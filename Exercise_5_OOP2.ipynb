{
  "nbformat": 4,
  "nbformat_minor": 0,
  "metadata": {
    "colab": {
      "provenance": [],
      "authorship_tag": "ABX9TyOQoIHianUjFD70Bi5T6J/b",
      "include_colab_link": true
    },
    "kernelspec": {
      "name": "python3",
      "display_name": "Python 3"
    },
    "language_info": {
      "name": "python"
    }
  },
  "cells": [
    {
      "cell_type": "markdown",
      "metadata": {
        "id": "view-in-github",
        "colab_type": "text"
      },
      "source": [
        "<a href=\"https://colab.research.google.com/github/AaronRowenGaspar/OOP2-CPE009B-CPE21S1/blob/main/Exercise_5_OOP2.ipynb\" target=\"_parent\"><img src=\"https://colab.research.google.com/assets/colab-badge.svg\" alt=\"Open In Colab\"/></a>"
      ]
    },
    {
      "cell_type": "markdown",
      "source": [
        "**POLYMORPHISM**\n",
        "\n",
        "---\n",
        "\n"
      ],
      "metadata": {
        "id": "9kddxjr0eJI0"
      }
    },
    {
      "cell_type": "code",
      "source": [
        "class Person:\n",
        "  def __init__(self, name, age):\n",
        "    self.name = name\n",
        "    self.age = age\n",
        "\n",
        "class Student(Person):\n",
        "  def traits(self):\n",
        "    return \"studying, playing, dancing, singing\"\n",
        "\n",
        "class Teacher(Person):\n",
        "  def traits(self):\n",
        "    return \"teaching, socializing, participating\"\n",
        "\n",
        "student = Student(\"Ana\", 19)\n",
        "teacher = Teacher(\"Maam Sayo\", 41)\n",
        "\n",
        "print(f\"As a student, I do {student.traits()}\")\n",
        "print(f\"As a teacher, I do {teacher.traits()}\")"
      ],
      "metadata": {
        "colab": {
          "base_uri": "https://localhost:8080/"
        },
        "id": "-eOhR7jZVcWP",
        "outputId": "602e0e4e-a5e4-4d92-f1de-6cca81b0de44"
      },
      "execution_count": 14,
      "outputs": [
        {
          "output_type": "stream",
          "name": "stdout",
          "text": [
            "As a student, I do studying, playing, dancing, singing\n",
            "As a teacher, I do teaching, socializing, participating\n"
          ]
        }
      ]
    },
    {
      "cell_type": "markdown",
      "source": [
        "\n",
        "\n",
        "---\n",
        "\n"
      ],
      "metadata": {
        "id": "yJoPGhizgFi7"
      }
    },
    {
      "cell_type": "markdown",
      "source": [
        "**APPLYING POLYMORPHISM**\n",
        "\n",
        "---\n",
        "\n"
      ],
      "metadata": {
        "id": "30cvL292f7SE"
      }
    },
    {
      "cell_type": "code",
      "source": [
        "class Values:\n",
        "  def __init__(self, a, b):\n",
        "    self.a = a\n",
        "    self.b = b\n",
        "\n",
        "class addition(Values):\n",
        "  def add(self):\n",
        "    return self.a + self.b\n",
        "\n",
        "class subtraction(Values):\n",
        "  def subtract(self):\n",
        "    return self.a - self.b\n",
        "\n",
        "class multiplication(Values):\n",
        "  def multiply(self):\n",
        "    return self.a * self.b\n",
        "\n",
        "class division(Values):\n",
        "  def divide(self):\n",
        "    return self.a / self.b\n",
        "\n",
        "values = addition(100, 200)\n",
        "print(f\"The sum of the values is {values.add()}\")\n",
        "values = subtraction(100, 75)\n",
        "print(f\"The difference of the values is {values.subtract()}\")\n",
        "values = multiplication(8, 9)\n",
        "print(f\"The product of the values is {values.multiply()}\")\n",
        "values = division(15, 6)\n",
        "print(f\"The quotient of the values is {values.divide()}\")"
      ],
      "metadata": {
        "colab": {
          "base_uri": "https://localhost:8080/"
        },
        "id": "0b4l8QMmWeI_",
        "outputId": "32dd34ff-29f5-4970-f248-5f8ce89d3d37"
      },
      "execution_count": 21,
      "outputs": [
        {
          "output_type": "stream",
          "name": "stdout",
          "text": [
            "The sum of the values is 300\n",
            "The difference of the values is 25\n",
            "The product of the values is 72\n",
            "The quotient of the values is 2.5\n"
          ]
        }
      ]
    }
  ]
}