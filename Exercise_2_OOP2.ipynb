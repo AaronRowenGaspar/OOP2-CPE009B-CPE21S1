{
  "nbformat": 4,
  "nbformat_minor": 0,
  "metadata": {
    "colab": {
      "provenance": [],
      "authorship_tag": "ABX9TyMD7bwpWVNiZAaSZ6ZFyaPA",
      "include_colab_link": true
    },
    "kernelspec": {
      "name": "python3",
      "display_name": "Python 3"
    },
    "language_info": {
      "name": "python"
    }
  },
  "cells": [
    {
      "cell_type": "markdown",
      "metadata": {
        "id": "view-in-github",
        "colab_type": "text"
      },
      "source": [
        "<a href=\"https://colab.research.google.com/github/AaronRowenGaspar/OOP2-CPE009B-CPE21S1/blob/main/Exercise_2_OOP2.ipynb\" target=\"_parent\"><img src=\"https://colab.research.google.com/assets/colab-badge.svg\" alt=\"Open In Colab\"/></a>"
      ]
    },
    {
      "cell_type": "markdown",
      "source": [
        "Write a program to determine if the grades are:\n",
        "\n",
        "1. \"Passed\" >= 75\n",
        "2. \"Remedial\" = 74\n",
        "3. \"Failed\" < 74\n",
        "\n"
      ],
      "metadata": {
        "id": "jv02fpuMPxeQ"
      }
    },
    {
      "cell_type": "code",
      "execution_count": 26,
      "metadata": {
        "colab": {
          "base_uri": "https://localhost:8080/"
        },
        "id": "tkOb0hERKrur",
        "outputId": "31de7485-a4a8-4544-bd69-df625b0c8453"
      },
      "outputs": [
        {
          "output_type": "stream",
          "name": "stdout",
          "text": [
            "Input Grade Value: 89\n",
            "Passed\n"
          ]
        }
      ],
      "source": [
        "grade = float(input(\"Input Grade Value: \"))\n",
        "\n",
        "if grade >= 75 and grade <= 100:\n",
        "  print(\"Passed\")\n",
        "elif grade == 74:\n",
        "  print(\"Remedial\")\n",
        "elif grade <= 73 and grade >= 0:\n",
        "  print(\"Failed\")\n",
        "else:\n",
        "  print(\"Invalid\")\n",
        "\n"
      ]
    }
  ]
}