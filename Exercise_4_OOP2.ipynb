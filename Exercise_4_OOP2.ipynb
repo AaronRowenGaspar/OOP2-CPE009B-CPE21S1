{
  "nbformat": 4,
  "nbformat_minor": 0,
  "metadata": {
    "colab": {
      "provenance": [],
      "authorship_tag": "ABX9TyPheAmFWTbZnPmeMFyz3o0p",
      "include_colab_link": true
    },
    "kernelspec": {
      "name": "python3",
      "display_name": "Python 3"
    },
    "language_info": {
      "name": "python"
    }
  },
  "cells": [
    {
      "cell_type": "markdown",
      "metadata": {
        "id": "view-in-github",
        "colab_type": "text"
      },
      "source": [
        "<a href=\"https://colab.research.google.com/github/AaronRowenGaspar/OOP2-CPE009B-CPE21S1/blob/main/Exercise_4_OOP2.ipynb\" target=\"_parent\"><img src=\"https://colab.research.google.com/assets/colab-badge.svg\" alt=\"Open In Colab\"/></a>"
      ]
    },
    {
      "cell_type": "code",
      "execution_count": 7,
      "metadata": {
        "colab": {
          "base_uri": "https://localhost:8080/"
        },
        "id": "oF8KUP_GLv12",
        "outputId": "884c40f9-51c3-43ca-ee73-880471d2361e"
      },
      "outputs": [
        {
          "output_type": "execute_result",
          "data": {
            "text/plain": [
              "7"
            ]
          },
          "metadata": {},
          "execution_count": 7
        }
      ],
      "source": [
        "#Example 1: Encapsulation\n",
        "class foo:\n",
        "  def __init__ (self,a,b):\n",
        "    self._a=a\n",
        "    self._b=b\n",
        "\n",
        "  def add(self):\n",
        "    return self._a+self._b\n",
        "\n",
        "foo_object = foo(3,4)\n",
        "foo_object.add()"
      ]
    },
    {
      "cell_type": "code",
      "source": [
        "#Example 2: Encapsulation\n",
        "class Person:\n",
        "  def __init__(self,name,age):\n",
        "    self._name=name\n",
        "    self._age=age\n",
        "\n",
        "  def display(self):\n",
        "    return f\"My name is {self._name} and my age is {self._age}\"\n",
        "\n",
        "person = Person(\"Ana\",15)\n",
        "person.display()"
      ],
      "metadata": {
        "colab": {
          "base_uri": "https://localhost:8080/",
          "height": 35
        },
        "id": "-WrNYf19MkIH",
        "outputId": "1f19bb6a-1486-49e8-ce5d-7949be885f17"
      },
      "execution_count": 18,
      "outputs": [
        {
          "output_type": "execute_result",
          "data": {
            "text/plain": [
              "'My name is Ana and my age is 15'"
            ],
            "application/vnd.google.colaboratory.intrinsic+json": {
              "type": "string"
            }
          },
          "metadata": {},
          "execution_count": 18
        }
      ]
    },
    {
      "cell_type": "code",
      "source": [
        "#Example 3: Encapsulation\n",
        "class Counter:\n",
        "  def __init__(self):\n",
        "    self._current = 0\n",
        "\n",
        "  def increment(self):\n",
        "    self._current+=1\n",
        "\n",
        "  def value(self):\n",
        "    return self._current\n",
        "\n",
        "  def reset(self):\n",
        "    self._current=0\n",
        "\n",
        "counter = Counter()\n",
        "counter.increment()\n",
        "counter.increment()\n",
        "counter.increment()\n",
        "print(counter.value())"
      ],
      "metadata": {
        "colab": {
          "base_uri": "https://localhost:8080/"
        },
        "id": "nTjiRKrLPGqX",
        "outputId": "e27797a5-dc73-4c1a-b861-248ac8ef9fb9"
      },
      "execution_count": 17,
      "outputs": [
        {
          "output_type": "stream",
          "name": "stdout",
          "text": [
            "3\n"
          ]
        }
      ]
    },
    {
      "cell_type": "code",
      "source": [
        "#Example 1: Polymorphism\n",
        "class RegularPolygon:\n",
        "  def __init__(self,side):\n",
        "    self.side = side\n",
        "class Square(RegularPolygon):\n",
        "  def area(self):\n",
        "    return self.side * self.side\n",
        "class EquilateralTriangle(RegularPolygon):\n",
        "  def area(self):\n",
        "    return self.side * self.side * 0.433\n",
        "\n",
        "square = Square(4)\n",
        "triangle = EquilateralTriangle(3)\n",
        "print(f\"The area of the square is {square.area()}\")\n",
        "print(f\"The area of the triangle is {triangle.area()}\")"
      ],
      "metadata": {
        "colab": {
          "base_uri": "https://localhost:8080/"
        },
        "id": "iI-nLAv9RGM3",
        "outputId": "fcdb687b-2ff0-4127-9b8a-b4fe292c80a0"
      },
      "execution_count": 20,
      "outputs": [
        {
          "output_type": "stream",
          "name": "stdout",
          "text": [
            "The area of the square is 16\n",
            "The area of the triangle is 3.897\n"
          ]
        }
      ]
    },
    {
      "cell_type": "code",
      "source": [
        "#Applicaton 1\n",
        "\n",
        "class Person:\n",
        "  def __init__(self, std1, std2, std3, pre, mid, fin):\n",
        "    self._std1 = std1\n",
        "    self._std2 = std2\n",
        "    self._std3 = std3\n",
        "    self._pre = pre\n",
        "    self._mid = mid\n",
        "    self._fin = fin\n",
        "\n",
        "  def Grade(self):\n",
        "    return int((self._pre + self._mid + self._fin) / 3)\n",
        "\n",
        "\n",
        "student1 = Person(\"Aaron Gaspar\", \"Yohance Silang\", \"Jake Norwin Aduana\", 90, 95, 98)\n",
        "print(f\"The average grade of {student1._std1} is {student1.Grade()}\")\n",
        "student2 = Person(\"Aaron Gaspar\", \"Yohance Silang\", \"Jake Norwin Aduana\", 78, 94, 97)\n",
        "print(f\"The average grade of {student2._std2} is {student2.Grade()}\")\n",
        "student3 = Person(\"Aaron Gaspar\", \"Yohance Silang\", \"Jake Norwin Aduana\", 89, 90, 95)\n",
        "print(f\"The average grade of {student3._std3} is {student3.Grade()}\")"
      ],
      "metadata": {
        "colab": {
          "base_uri": "https://localhost:8080/"
        },
        "id": "Bt7shw_sh-0Y",
        "outputId": "4d442361-641e-4d0d-844b-5976bbafe6cc"
      },
      "execution_count": 44,
      "outputs": [
        {
          "output_type": "stream",
          "name": "stdout",
          "text": [
            "The average grade of Aaron Gaspar is 94\n",
            "The average grade of Yohance Silang is 89\n",
            "The average grade of Jake Norwin Aduana is 91\n"
          ]
        }
      ]
    }
  ]
}